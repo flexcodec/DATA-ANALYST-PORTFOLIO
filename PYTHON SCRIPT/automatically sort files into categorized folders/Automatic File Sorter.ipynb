{
 "cells": [
  {
   "cell_type": "markdown",
   "id": "2451c6af-ac88-4f86-b988-319a902dc20b",
   "metadata": {},
   "source": [
    "## Automatic File Sorter in File Explorer"
   ]
  },
  {
   "cell_type": "code",
   "execution_count": 1,
   "id": "e78c0330-9225-48ea-9446-b14de48a41a9",
   "metadata": {},
   "outputs": [],
   "source": [
    "import os, shutil"
   ]
  },
  {
   "cell_type": "code",
   "execution_count": 3,
   "id": "66dd24da-5f38-4ef1-9084-b139f6837de3",
   "metadata": {},
   "outputs": [],
   "source": [
    "path = r\"C:\\Users\\eyang\\OneDrive\\Desktop\\Doc\""
   ]
  },
  {
   "cell_type": "code",
   "execution_count": 4,
   "id": "4adb119f-c818-49a4-a38c-e6a68b4c02e5",
   "metadata": {},
   "outputs": [
    {
     "data": {
      "text/plain": [
       "['CV.doc',\n",
       " 'Document files',\n",
       " 'Excel files(csv)',\n",
       " 'Excel files(xlsx)',\n",
       " 'fake.txt',\n",
       " 'images files',\n",
       " 'OIP.jpeg',\n",
       " 'Power BI - Final Project.csv',\n",
       " 'PROFILE.jpg',\n",
       " 'Simple-Project-Plan-Template-Excel-Free-Download-Template-1.xlsx',\n",
       " 'text files',\n",
       " 'Words files',\n",
       " '_IMG_11111.jpg']"
      ]
     },
     "execution_count": 4,
     "metadata": {},
     "output_type": "execute_result"
    }
   ],
   "source": [
    "os.listdir(path)"
   ]
  },
  {
   "cell_type": "code",
   "execution_count": 7,
   "id": "f95f6901-d370-454b-92d5-61a8acae812b",
   "metadata": {},
   "outputs": [],
   "source": [
    "files_name = os.listdir(path)"
   ]
  },
  {
   "cell_type": "code",
   "execution_count": 9,
   "id": "04bfaec3-e8d3-4b75-89f8-23eef4f27e90",
   "metadata": {},
   "outputs": [
    {
     "name": "stdout",
     "output_type": "stream",
     "text": [
      "Folders already exists: C:\\Users\\eyang\\OneDrive\\Desktop\\Doc\\Document files\n",
      "Folders already exists: C:\\Users\\eyang\\OneDrive\\Desktop\\Doc\\images files\n",
      "Folders already exists: C:\\Users\\eyang\\OneDrive\\Desktop\\Doc\\text files\n",
      "Folders already exists: C:\\Users\\eyang\\OneDrive\\Desktop\\Doc\\Excel files(csv)\n",
      "Folders already exists: C:\\Users\\eyang\\OneDrive\\Desktop\\Doc\\Excel files(xlsx)\n"
     ]
    }
   ],
   "source": [
    "folder_names = ['Document files', 'images files', 'text files', 'Excel files(csv)', 'Excel files(xlsx)']\n",
    "\n",
    "for loop in range(0,5):\n",
    "    folder_path = os.path.join(path, folder_names[loop])\n",
    "    if not os.path.exists(folder_path):\n",
    "        print(f\"Creating folder: {folder_path}\")\n",
    "        os.makedirs(folder_path)\n",
    "    else:\n",
    "        print(f\"Folders already exists: {folder_path}\")"
   ]
  },
  {
   "cell_type": "code",
   "execution_count": 11,
   "id": "cd42461c-47ee-4111-8bfe-aac11b7195ab",
   "metadata": {},
   "outputs": [
    {
     "name": "stdout",
     "output_type": "stream",
     "text": [
      "Moved: CV.doc → Document files/\n",
      "Moved: fake.txt → text files/\n",
      "Moved: Power BI - Final Project.csv → Excel files(csv)/\n",
      "Moved: PROFILE.jpg → image files/\n",
      "Moved: Simple-Project-Plan-Template-Excel-Free-Download-Template-1.xlsx → Excel files(xlsx)/\n",
      "Moved: _IMG_11111.jpg → image files/\n"
     ]
    }
   ],
   "source": [
    "# Sort files into appropriate folders\n",
    "for file in files_name:\n",
    "    file_path = os.path.join(path, file)\n",
    "\n",
    "    if \".doc\" in file.lower():\n",
    "        folder_path = os.path.join(path, \"Document files\")\n",
    "        try:\n",
    "            shutil.move(file_path, os.path.join(folder_path, file))\n",
    "            print(f\"Moved: {file} → Document files/\")\n",
    "        except Exception as e:\n",
    "            print(f\"Error moving {file}: {str(e)}\")\n",
    "    \n",
    "    elif \".xlsx\" in file.lower():\n",
    "        folder_path = os.path.join(path, \"Excel files(xlsx)\")\n",
    "        try:\n",
    "            shutil.move(file_path, os.path.join(folder_path, file))\n",
    "            print(f\"Moved: {file} → Excel files(xlsx)/\")\n",
    "        except Exception as e:\n",
    "            print(f\"Error moving {file}: {str(e)}\")\n",
    "            \n",
    "    elif \".jpg\" in file.lower():\n",
    "        folder_path = os.path.join(path, \"images files\")\n",
    "        try:\n",
    "            shutil.move(file_path, os.path.join(folder_path, file))\n",
    "            print(f\"Moved: {file} → image files/\")\n",
    "        except Exception as e:\n",
    "            print(f\"Error moving {file}: {str(e)}\")\n",
    "            \n",
    "    elif \".csv\" in file.lower():\n",
    "        folder_path = os.path.join(path, \"Excel files(csv)\")\n",
    "        try:\n",
    "            shutil.move(file_path, os.path.join(folder_path, file))\n",
    "            print(f\"Moved: {file} → Excel files(csv)/\")\n",
    "        except Exception as e:\n",
    "            print(f\"Error moving {file}: {str(e)}\")\n",
    "            \n",
    "    elif \".txt\" in file.lower():\n",
    "        folder_path = os.path.join(path, \"text files\")\n",
    "        try:\n",
    "            shutil.move(file_path, os.path.join(folder_path, file))\n",
    "            print(f\"Moved: {file} → text files/\")\n",
    "        except Exception as e:\n",
    "            print(f\"Error moving {file}: {str(e)}\")\n",
    "\n",
    "    \n"
   ]
  }
 ],
 "metadata": {
  "kernelspec": {
   "display_name": "Python 3 (ipykernel)",
   "language": "python",
   "name": "python3"
  },
  "language_info": {
   "codemirror_mode": {
    "name": "ipython",
    "version": 3
   },
   "file_extension": ".py",
   "mimetype": "text/x-python",
   "name": "python",
   "nbconvert_exporter": "python",
   "pygments_lexer": "ipython3",
   "version": "3.11.7"
  }
 },
 "nbformat": 4,
 "nbformat_minor": 5
}
