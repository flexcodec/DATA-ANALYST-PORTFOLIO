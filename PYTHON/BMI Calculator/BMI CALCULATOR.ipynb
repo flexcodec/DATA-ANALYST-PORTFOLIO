{
 "cells": [
  {
   "cell_type": "markdown",
   "id": "cc1980e5-3859-432c-a6a0-c3e05d867e95",
   "metadata": {},
   "source": [
    "### BMI CALCULATOR\n",
    "\n",
    "https://mercer-health.com/#:~:text=Body%20Mass%20Index%2C%20or%20BMI,inches%20x%20height%20in%20inches"
   ]
  },
  {
   "cell_type": "code",
   "execution_count": 5,
   "id": "f6242353-f72e-47b4-9cf2-0d9299e8fb6c",
   "metadata": {},
   "outputs": [
    {
     "name": "stdin",
     "output_type": "stream",
     "text": [
      "Enter your name:  Cinthia\n",
      "Enter your weight in pounds:  78\n",
      "Enter your height in inches:  1.68\n"
     ]
    },
    {
     "name": "stdout",
     "output_type": "stream",
     "text": [
      "19428.146258503406\n",
      "Cinthia, You are morbidly Obese\n"
     ]
    }
   ],
   "source": [
    "name = input(\"Enter your name: \")\n",
    "\n",
    "weight = int(input(\"Enter your weight in pounds: \"))\n",
    "\n",
    "height = float(input(\"Enter your height in inches: \"))\n",
    "\n",
    "BMI = (weight * 703) / (height * height)\n",
    "\n",
    "print(BMI)\n",
    "\n",
    "if BMI>0: \n",
    "    if (BMI<18.5):\n",
    "        print(name + \", You are Underweight.\")\n",
    "    elif (BMI<=24.9):\n",
    "        print(name + \", You are Normal weight.\")\n",
    "    elif (BMI<=29.9):\n",
    "        print(name + \", You are Overweight.\")\n",
    "    elif (BMI<=34.9):\n",
    "        print(name + \", You are Obese.\")\n",
    "    elif (BMI<39.9):\n",
    "        print(name + \", You are Severely Obese.\")\n",
    "    else:\n",
    "        print(name + \", You are morbidly Obese\")\n",
    "else:\n",
    "    print(\"Enter valid input\")"
   ]
  },
  {
   "cell_type": "code",
   "execution_count": null,
   "id": "97e8ddf6-824e-44e4-90fd-1682fb194dca",
   "metadata": {},
   "outputs": [],
   "source": [
    "#BMI = (weight in pounds x 703) / (height in inches x height in inches)"
   ]
  },
  {
   "cell_type": "code",
   "execution_count": null,
   "id": "78523d5a-6567-482a-a6b9-9d57001515cd",
   "metadata": {},
   "outputs": [],
   "source": []
  }
 ],
 "metadata": {
  "kernelspec": {
   "display_name": "Python 3 (ipykernel)",
   "language": "python",
   "name": "python3"
  },
  "language_info": {
   "codemirror_mode": {
    "name": "ipython",
    "version": 3
   },
   "file_extension": ".py",
   "mimetype": "text/x-python",
   "name": "python",
   "nbconvert_exporter": "python",
   "pygments_lexer": "ipython3",
   "version": "3.11.7"
  }
 },
 "nbformat": 4,
 "nbformat_minor": 5
}
